{
  "nbformat": 4,
  "nbformat_minor": 0,
  "metadata": {
    "colab": {
      "name": "Hypothesis Testing Basics of Kaduna.ipynb",
      "version": "0.3.2",
      "provenance": [],
      "collapsed_sections": [],
      "include_colab_link": true
    },
    "kernelspec": {
      "name": "python3",
      "display_name": "Python 3"
    }
  },
  "cells": [
    {
      "cell_type": "markdown",
      "metadata": {
        "id": "view-in-github",
        "colab_type": "text"
      },
      "source": [
        "<a href=\"https://colab.research.google.com/github/byruzyayandy1/Hypothesis_Testing-Population-and-Sample-of-Kaduna-/blob/master/Hypothesis_Testing_Basics_of_Kaduna.ipynb\" target=\"_parent\"><img src=\"https://colab.research.google.com/assets/colab-badge.svg\" alt=\"Open In Colab\"/></a>"
      ]
    },
    {
      "cell_type": "markdown",
      "metadata": {
        "id": "FwfuPVxqXKKF",
        "colab_type": "text"
      },
      "source": [
        "#Hypothesis Testing Basics\n",
        "\n",
        "Statistical hypothesis tests are based a statement called the null hypothesis that assumes nothing interesting is going on between whatever variables you are testing. The exact form of the null hypothesis varies from one type test to another: if you are testing whether groups differ, the null hypothesis states that the groups are the same. For instance, if you wanted to test whether the average age of voters in your home state differs from the national average, the null hypothesis would be that there is no difference between the average ages.\n",
        "\n",
        "#Sample Data of Population and Kaduna\n",
        "Let's create some dummy age data for the population of voters in the entire country and a sample of voters in Kaduna and test the whether the average age of voters Kaduna differs from the population:"
      ]
    },
    {
      "cell_type": "code",
      "metadata": {
        "id": "O8hUYcS4W693",
        "colab_type": "code",
        "colab": {}
      },
      "source": [
        "%matplotlib inline"
      ],
      "execution_count": 0,
      "outputs": []
    },
    {
      "cell_type": "code",
      "metadata": {
        "id": "bVXrbOo_XwhW",
        "colab_type": "code",
        "colab": {}
      },
      "source": [
        "import numpy as np\n",
        "import pandas as pd\n",
        "import scipy.stats as stats\n",
        "import matplotlib.pyplot as plt\n",
        "import math"
      ],
      "execution_count": 0,
      "outputs": []
    },
    {
      "cell_type": "code",
      "metadata": {
        "id": "FbEQYZohX0MU",
        "colab_type": "code",
        "outputId": "ee02885c-5f54-4e7a-bd08-720f216b18ac",
        "colab": {
          "base_uri": "https://localhost:8080/",
          "height": 51
        }
      },
      "source": [
        "np.random.seed(6)\n",
        "\n",
        "population_ages1 = stats.poisson.rvs(loc=18, mu=35, size=150000)\n",
        "population_ages2 = stats.poisson.rvs(loc=18, mu=10, size=100000)\n",
        "population_ages = np.concatenate((population_ages1, population_ages2))\n",
        "\n",
        "kaduna_ages1 = stats.poisson.rvs(loc=18, mu=30, size=30)\n",
        "kaduna_ages2 = stats.poisson.rvs(loc=18, mu=10, size=20)\n",
        "kaduna_ages = np.concatenate((kaduna_ages1, kaduna_ages2))\n",
        "\n",
        "print( population_ages.mean() )\n",
        "print( kaduna_ages.mean() )"
      ],
      "execution_count": 0,
      "outputs": [
        {
          "output_type": "stream",
          "text": [
            "43.000112\n",
            "39.26\n"
          ],
          "name": "stdout"
        }
      ]
    },
    {
      "cell_type": "markdown",
      "metadata": {
        "id": "511GhmCeaTAU",
        "colab_type": "text"
      },
      "source": [
        "Notice that we used a slightly different combination of distributions to generate the sample data for Kaduna, so we know that the two means are different. Let's conduct a t-test at a 95% confidence level and see if it correctly rejects the null hypothesis that the sample comes from the same distribution as the population. To conduct a one sample t-test, we can the stats.ttest_1samp() function:"
      ]
    },
    {
      "cell_type": "code",
      "metadata": {
        "id": "DCPcglO5ZwZa",
        "colab_type": "code",
        "outputId": "ad408c24-3f67-4096-db82-f55a612bd39b",
        "colab": {
          "base_uri": "https://localhost:8080/",
          "height": 34
        }
      },
      "source": [
        "stats.ttest_1samp(a= kaduna_ages,                  #Sample data \n",
        "                 popmean= population_ages.mean())  #Pop mean"
      ],
      "execution_count": 0,
      "outputs": [
        {
          "output_type": "execute_result",
          "data": {
            "text/plain": [
              "Ttest_1sampResult(statistic=-2.5742714883655027, pvalue=0.013118685425061678)"
            ]
          },
          "metadata": {
            "tags": []
          },
          "execution_count": 20
        }
      ]
    },
    {
      "cell_type": "markdown",
      "metadata": {
        "id": "SAXx_1fLb6a5",
        "colab_type": "text"
      },
      "source": [
        "The test result shows the test statistic \"t\" is equal to -2.2972. This test statistic tells us how much the sample mean deviates from the null hypothesis. If the t-statistic lies outside the quantiles of the t-distribution corresponding to our confidence level and degrees of freedom, we reject the null hypothesis. We can check the quantiles with stats.t.ppf():"
      ]
    },
    {
      "cell_type": "code",
      "metadata": {
        "id": "QJpf85E1cHT1",
        "colab_type": "code",
        "outputId": "240bedb2-5f24-4be6-e6e3-38a331a61d9b",
        "colab": {
          "base_uri": "https://localhost:8080/",
          "height": 34
        }
      },
      "source": [
        "stats.t.ppf(q= 0.025,           #Quantile to check\n",
        "           df= 49)              #Degree of freedom"
      ],
      "execution_count": 0,
      "outputs": [
        {
          "output_type": "execute_result",
          "data": {
            "text/plain": [
              "-2.0095752344892093"
            ]
          },
          "metadata": {
            "tags": []
          },
          "execution_count": 21
        }
      ]
    },
    {
      "cell_type": "code",
      "metadata": {
        "id": "YtU1kbP3dIZ2",
        "colab_type": "code",
        "outputId": "814df818-0e9f-401d-dce6-44be537e994a",
        "colab": {
          "base_uri": "https://localhost:8080/",
          "height": 34
        }
      },
      "source": [
        "stats.t.ppf(q= 0.975,   #Quantile to check\n",
        "           df= 49)      #Degree of freedom"
      ],
      "execution_count": 0,
      "outputs": [
        {
          "output_type": "execute_result",
          "data": {
            "text/plain": [
              "2.009575234489209"
            ]
          },
          "metadata": {
            "tags": []
          },
          "execution_count": 23
        }
      ]
    },
    {
      "cell_type": "markdown",
      "metadata": {
        "id": "3zuHM0D3dl8u",
        "colab_type": "text"
      },
      "source": [
        "We can calculate the chances of seeing a result as extreme as the one we observed (known as the p-value) by passing the t-statistic in as the quantile to the stats.t.cdf() function"
      ]
    },
    {
      "cell_type": "code",
      "metadata": {
        "id": "E1vPrnYreb_t",
        "colab_type": "code",
        "outputId": "716b9e54-3b2e-4b9d-e8e3-c06e46dfc1df",
        "colab": {
          "base_uri": "https://localhost:8080/",
          "height": 34
        }
      },
      "source": [
        "stats.t.cdf(x= -2.5742,      #T-test statistic\n",
        "               df= 49) * 2   #Mupltiply by two for two tailed test*"
      ],
      "execution_count": 0,
      "outputs": [
        {
          "output_type": "execute_result",
          "data": {
            "text/plain": [
              "0.013121066545690117"
            ]
          },
          "metadata": {
            "tags": []
          },
          "execution_count": 24
        }
      ]
    },
    {
      "cell_type": "markdown",
      "metadata": {
        "id": "ZFxJTH7Hfs3l",
        "colab_type": "text"
      },
      "source": [
        "*Note: The alternative hypothesis we are checking is whether the sample mean differs (is not equal to) the population mean. Since the sample could differ in either the positive or negative direction we multiply the by two.\n",
        "\n",
        "Notice this value is the same as the p-value listed in the original t-test output. A p-value of 0.01311 means we'd expect to see data as extreme as our sample due to chance about 1.3% of the time if the null hypothesis was true. In this case, the p-value is lower than our significance level α (equal to 1-conf.level or 0.05) so we should reject the null hypothesis. If we were to construct a 95% confidence interval for the sample it would not capture population mean of 43:"
      ]
    },
    {
      "cell_type": "code",
      "metadata": {
        "id": "aPens7nAf22-",
        "colab_type": "code",
        "outputId": "9ef857e0-7e8f-4b50-dd5b-2cde3e8df467",
        "colab": {
          "base_uri": "https://localhost:8080/",
          "height": 34
        }
      },
      "source": [
        "sigma = kaduna_ages.std()/math.sqrt(50)  # Sample stdev/sample size\n",
        "\n",
        "stats.t.interval(0.95,                        # Confidence level\n",
        "                 df = 49,                     # Degrees of freedom\n",
        "                 loc = kaduna_ages.mean(),    # Sample mean\n",
        "                 scale= sigma)                # Standard dev estimate"
      ],
      "execution_count": 0,
      "outputs": [
        {
          "output_type": "execute_result",
          "data": {
            "text/plain": [
              "(36.369669080722176, 42.15033091927782)"
            ]
          },
          "metadata": {
            "tags": []
          },
          "execution_count": 25
        }
      ]
    },
    {
      "cell_type": "markdown",
      "metadata": {
        "id": "iJHY04I7gIL4",
        "colab_type": "text"
      },
      "source": [
        "On the other hand, since there is a 1.3% chance of seeing a result this extreme due to chance, it is not significant at the 99% confidence level. This means if we were to construct a 99% confidence interval, it would capture the population mean:"
      ]
    },
    {
      "cell_type": "code",
      "metadata": {
        "id": "aYf0nOV7gNGD",
        "colab_type": "code",
        "outputId": "d5123632-61e1-4f5f-fe76-2842365de627",
        "colab": {
          "base_uri": "https://localhost:8080/",
          "height": 34
        }
      },
      "source": [
        "stats.t.interval(alpha = 0.99,                # Confidence level\n",
        "                 df = 49,                     # Degrees of freedom\n",
        "                 loc = kaduna_ages.mean(),    # Sample mean\n",
        "                 scale= sigma)                # Standard dev estimate"
      ],
      "execution_count": 0,
      "outputs": [
        {
          "output_type": "execute_result",
          "data": {
            "text/plain": [
              "(35.40547994092107, 43.11452005907893)"
            ]
          },
          "metadata": {
            "tags": []
          },
          "execution_count": 26
        }
      ]
    },
    {
      "cell_type": "markdown",
      "metadata": {
        "id": "hHReG9qpgaSK",
        "colab_type": "text"
      },
      "source": [
        "With a higher confidence level, we construct a wider confidence interval and increase the chances that it captures to true mean, thus making it less likely that we'll reject the null hypothesis. In this case, the p-value of 0.013 is greater than our significance level of 0.01 and we fail to reject the null hypothesis.\n",
        "\n",
        "for info you can check my github account below.\n",
        "\n",
        "<a href =\"https://github.com/byruzyayandy1\"> Mohammed Bayero Yayandi </a>"
      ]
    }
  ]
}